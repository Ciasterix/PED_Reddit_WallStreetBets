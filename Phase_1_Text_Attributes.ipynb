{
 "cells": [
  {
   "cell_type": "code",
   "execution_count": 1,
   "metadata": {},
   "outputs": [],
   "source": [
    "import string\n",
    "import re\n",
    "from collections import Counter \n",
    "\n",
    "import numpy as np\n",
    "import pandas as pd\n",
    "import seaborn as sns\n",
    "import matplotlib.pyplot as plt\n",
    "from tqdm import tqdm\n",
    "\n",
    "from urllib.parse import urlparse\n",
    "\n",
    "import nltk\n",
    "from nltk.corpus import stopwords\n",
    "from nltk.sentiment.vader import SentimentIntensityAnalyzer\n",
    "import spacy \n",
    "import en_core_web_sm\n",
    "from spacymoji import Emoji\n",
    "\n",
    "import gensim\n",
    "import gensim.corpora as corpora\n",
    "from gensim.utils import simple_preprocess\n",
    "from gensim.models import CoherenceModel, HdpModel"
   ]
  },
  {
   "cell_type": "code",
   "execution_count": 2,
   "metadata": {},
   "outputs": [],
   "source": [
    "nlp = spacy.load(\"en_core_web_sm\", disable=['parser', 'ner'])\n",
    "\n",
    "emoji = Emoji(nlp, merge_spans=False)\n",
    "nlp.add_pipe(emoji, first=True)"
   ]
  },
  {
   "cell_type": "code",
   "execution_count": 3,
   "metadata": {},
   "outputs": [
    {
     "data": {
      "text/html": [
       "<div>\n",
       "<style scoped>\n",
       "    .dataframe tbody tr th:only-of-type {\n",
       "        vertical-align: middle;\n",
       "    }\n",
       "\n",
       "    .dataframe tbody tr th {\n",
       "        vertical-align: top;\n",
       "    }\n",
       "\n",
       "    .dataframe thead th {\n",
       "        text-align: right;\n",
       "    }\n",
       "</style>\n",
       "<table border=\"1\" class=\"dataframe\">\n",
       "  <thead>\n",
       "    <tr style=\"text-align: right;\">\n",
       "      <th></th>\n",
       "      <th>title</th>\n",
       "      <th>score</th>\n",
       "      <th>id</th>\n",
       "      <th>url</th>\n",
       "      <th>comms_num</th>\n",
       "      <th>created</th>\n",
       "      <th>body</th>\n",
       "      <th>timestamp</th>\n",
       "    </tr>\n",
       "  </thead>\n",
       "  <tbody>\n",
       "    <tr>\n",
       "      <th>0</th>\n",
       "      <td>It's not about the money, it's about sending a...</td>\n",
       "      <td>55</td>\n",
       "      <td>l6ulcx</td>\n",
       "      <td>https://v.redd.it/6j75regs72e61</td>\n",
       "      <td>6</td>\n",
       "      <td>1.611863e+09</td>\n",
       "      <td>NaN</td>\n",
       "      <td>2021-01-28 21:37:41</td>\n",
       "    </tr>\n",
       "    <tr>\n",
       "      <th>1</th>\n",
       "      <td>Math Professor Scott Steiner says the numbers ...</td>\n",
       "      <td>110</td>\n",
       "      <td>l6uibd</td>\n",
       "      <td>https://v.redd.it/ah50lyny62e61</td>\n",
       "      <td>23</td>\n",
       "      <td>1.611862e+09</td>\n",
       "      <td>NaN</td>\n",
       "      <td>2021-01-28 21:32:10</td>\n",
       "    </tr>\n",
       "    <tr>\n",
       "      <th>2</th>\n",
       "      <td>Exit the system</td>\n",
       "      <td>0</td>\n",
       "      <td>l6uhhn</td>\n",
       "      <td>https://www.reddit.com/r/wallstreetbets/commen...</td>\n",
       "      <td>47</td>\n",
       "      <td>1.611862e+09</td>\n",
       "      <td>The CEO of NASDAQ pushed to halt trading “to g...</td>\n",
       "      <td>2021-01-28 21:30:35</td>\n",
       "    </tr>\n",
       "    <tr>\n",
       "      <th>3</th>\n",
       "      <td>NEW SEC FILING FOR GME! CAN SOMEONE LESS RETAR...</td>\n",
       "      <td>29</td>\n",
       "      <td>l6ugk6</td>\n",
       "      <td>https://sec.report/Document/0001193125-21-019848/</td>\n",
       "      <td>74</td>\n",
       "      <td>1.611862e+09</td>\n",
       "      <td>NaN</td>\n",
       "      <td>2021-01-28 21:28:57</td>\n",
       "    </tr>\n",
       "    <tr>\n",
       "      <th>4</th>\n",
       "      <td>Not to distract from GME, just thought our AMC...</td>\n",
       "      <td>71</td>\n",
       "      <td>l6ufgy</td>\n",
       "      <td>https://i.redd.it/4h2sukb662e61.jpg</td>\n",
       "      <td>156</td>\n",
       "      <td>1.611862e+09</td>\n",
       "      <td>NaN</td>\n",
       "      <td>2021-01-28 21:26:56</td>\n",
       "    </tr>\n",
       "    <tr>\n",
       "      <th>...</th>\n",
       "      <td>...</td>\n",
       "      <td>...</td>\n",
       "      <td>...</td>\n",
       "      <td>...</td>\n",
       "      <td>...</td>\n",
       "      <td>...</td>\n",
       "      <td>...</td>\n",
       "      <td>...</td>\n",
       "    </tr>\n",
       "    <tr>\n",
       "      <th>37150</th>\n",
       "      <td>Could use some help here at the end of the day...</td>\n",
       "      <td>109</td>\n",
       "      <td>lt4i4u</td>\n",
       "      <td>https://i.redd.it/1rhnimof9vj61.jpg</td>\n",
       "      <td>37</td>\n",
       "      <td>1.614393e+09</td>\n",
       "      <td>NaN</td>\n",
       "      <td>2021-02-27 04:37:32</td>\n",
       "    </tr>\n",
       "    <tr>\n",
       "      <th>37151</th>\n",
       "      <td>The war has just begun</td>\n",
       "      <td>486</td>\n",
       "      <td>lt4fk0</td>\n",
       "      <td>https://v.redd.it/fcyia2xo8vj61</td>\n",
       "      <td>30</td>\n",
       "      <td>1.614393e+09</td>\n",
       "      <td>NaN</td>\n",
       "      <td>2021-02-27 04:34:21</td>\n",
       "    </tr>\n",
       "    <tr>\n",
       "      <th>37152</th>\n",
       "      <td>PSA: AMCX is not up because of AMC</td>\n",
       "      <td>33</td>\n",
       "      <td>lt4ci5</td>\n",
       "      <td>https://www.reddit.com/r/wallstreetbets/commen...</td>\n",
       "      <td>17</td>\n",
       "      <td>1.614393e+09</td>\n",
       "      <td>Tl;dr AMCX is a very undervalued company based...</td>\n",
       "      <td>2021-02-27 04:30:42</td>\n",
       "    </tr>\n",
       "    <tr>\n",
       "      <th>37153</th>\n",
       "      <td>Ape Combat 6: Liberation of Gamestopmeria</td>\n",
       "      <td>32</td>\n",
       "      <td>lt46qn</td>\n",
       "      <td>https://v.redd.it/x6b005am5vj61</td>\n",
       "      <td>3</td>\n",
       "      <td>1.614393e+09</td>\n",
       "      <td>NaN</td>\n",
       "      <td>2021-02-27 04:23:42</td>\n",
       "    </tr>\n",
       "    <tr>\n",
       "      <th>37154</th>\n",
       "      <td>A Slap Back to Reality</td>\n",
       "      <td>108</td>\n",
       "      <td>lt47yg</td>\n",
       "      <td>https://www.reddit.com/r/wallstreetbets/commen...</td>\n",
       "      <td>175</td>\n",
       "      <td>1.614393e+09</td>\n",
       "      <td>Obligatory: This is not financial advice. I am...</td>\n",
       "      <td>2021-02-27 04:25:09</td>\n",
       "    </tr>\n",
       "  </tbody>\n",
       "</table>\n",
       "<p>37155 rows × 8 columns</p>\n",
       "</div>"
      ],
      "text/plain": [
       "                                                   title  score      id  \\\n",
       "0      It's not about the money, it's about sending a...     55  l6ulcx   \n",
       "1      Math Professor Scott Steiner says the numbers ...    110  l6uibd   \n",
       "2                                        Exit the system      0  l6uhhn   \n",
       "3      NEW SEC FILING FOR GME! CAN SOMEONE LESS RETAR...     29  l6ugk6   \n",
       "4      Not to distract from GME, just thought our AMC...     71  l6ufgy   \n",
       "...                                                  ...    ...     ...   \n",
       "37150  Could use some help here at the end of the day...    109  lt4i4u   \n",
       "37151                             The war has just begun    486  lt4fk0   \n",
       "37152                 PSA: AMCX is not up because of AMC     33  lt4ci5   \n",
       "37153          Ape Combat 6: Liberation of Gamestopmeria     32  lt46qn   \n",
       "37154                             A Slap Back to Reality    108  lt47yg   \n",
       "\n",
       "                                                     url  comms_num  \\\n",
       "0                        https://v.redd.it/6j75regs72e61          6   \n",
       "1                        https://v.redd.it/ah50lyny62e61         23   \n",
       "2      https://www.reddit.com/r/wallstreetbets/commen...         47   \n",
       "3      https://sec.report/Document/0001193125-21-019848/         74   \n",
       "4                    https://i.redd.it/4h2sukb662e61.jpg        156   \n",
       "...                                                  ...        ...   \n",
       "37150                https://i.redd.it/1rhnimof9vj61.jpg         37   \n",
       "37151                    https://v.redd.it/fcyia2xo8vj61         30   \n",
       "37152  https://www.reddit.com/r/wallstreetbets/commen...         17   \n",
       "37153                    https://v.redd.it/x6b005am5vj61          3   \n",
       "37154  https://www.reddit.com/r/wallstreetbets/commen...        175   \n",
       "\n",
       "            created                                               body  \\\n",
       "0      1.611863e+09                                                NaN   \n",
       "1      1.611862e+09                                                NaN   \n",
       "2      1.611862e+09  The CEO of NASDAQ pushed to halt trading “to g...   \n",
       "3      1.611862e+09                                                NaN   \n",
       "4      1.611862e+09                                                NaN   \n",
       "...             ...                                                ...   \n",
       "37150  1.614393e+09                                                NaN   \n",
       "37151  1.614393e+09                                                NaN   \n",
       "37152  1.614393e+09  Tl;dr AMCX is a very undervalued company based...   \n",
       "37153  1.614393e+09                                                NaN   \n",
       "37154  1.614393e+09  Obligatory: This is not financial advice. I am...   \n",
       "\n",
       "                 timestamp  \n",
       "0      2021-01-28 21:37:41  \n",
       "1      2021-01-28 21:32:10  \n",
       "2      2021-01-28 21:30:35  \n",
       "3      2021-01-28 21:28:57  \n",
       "4      2021-01-28 21:26:56  \n",
       "...                    ...  \n",
       "37150  2021-02-27 04:37:32  \n",
       "37151  2021-02-27 04:34:21  \n",
       "37152  2021-02-27 04:30:42  \n",
       "37153  2021-02-27 04:23:42  \n",
       "37154  2021-02-27 04:25:09  \n",
       "\n",
       "[37155 rows x 8 columns]"
      ]
     },
     "execution_count": 3,
     "metadata": {},
     "output_type": "execute_result"
    }
   ],
   "source": [
    "df = pd.read_csv('reddit_wsb.csv')\n",
    "df"
   ]
  },
  {
   "cell_type": "code",
   "execution_count": 4,
   "metadata": {},
   "outputs": [
    {
     "name": "stdout",
     "output_type": "stream",
     "text": [
      "<class 'pandas.core.frame.DataFrame'>\n",
      "RangeIndex: 37155 entries, 0 to 37154\n",
      "Data columns (total 8 columns):\n",
      " #   Column     Non-Null Count  Dtype  \n",
      "---  ------     --------------  -----  \n",
      " 0   title      37155 non-null  object \n",
      " 1   score      37155 non-null  int64  \n",
      " 2   id         37155 non-null  object \n",
      " 3   url        37155 non-null  object \n",
      " 4   comms_num  37155 non-null  int64  \n",
      " 5   created    37155 non-null  float64\n",
      " 6   body       18718 non-null  object \n",
      " 7   timestamp  37155 non-null  object \n",
      "dtypes: float64(1), int64(2), object(5)\n",
      "memory usage: 2.3+ MB\n"
     ]
    }
   ],
   "source": [
    "df.info()"
   ]
  },
  {
   "cell_type": "markdown",
   "metadata": {},
   "source": [
    "# Selection of data from an appropriate interval\n",
    "\n",
    "Data from the period between January 20 and February 10 was selected. Of the initial **37155** rows, **32511** remained after filtering by date. "
   ]
  },
  {
   "cell_type": "code",
   "execution_count": 5,
   "metadata": {},
   "outputs": [
    {
     "name": "stdout",
     "output_type": "stream",
     "text": [
      "<class 'pandas.core.frame.DataFrame'>\n",
      "RangeIndex: 32511 entries, 0 to 32510\n",
      "Data columns (total 8 columns):\n",
      " #   Column     Non-Null Count  Dtype  \n",
      "---  ------     --------------  -----  \n",
      " 0   title      32511 non-null  object \n",
      " 1   score      32511 non-null  int64  \n",
      " 2   id         32511 non-null  object \n",
      " 3   url        32511 non-null  object \n",
      " 4   comms_num  32511 non-null  int64  \n",
      " 5   created    32511 non-null  float64\n",
      " 6   body       16875 non-null  object \n",
      " 7   timestamp  32511 non-null  object \n",
      "dtypes: float64(1), int64(2), object(5)\n",
      "memory usage: 2.0+ MB\n"
     ]
    }
   ],
   "source": [
    "df = df.loc[(df.timestamp > '2021-01-19') & (df.timestamp < '2021-02-11')]\n",
    "df = df.sort_values(by='timestamp').reset_index(drop=True)\n",
    "df.info()"
   ]
  },
  {
   "cell_type": "markdown",
   "metadata": {},
   "source": [
    "# Data analysis"
   ]
  },
  {
   "cell_type": "code",
   "execution_count": 6,
   "metadata": {},
   "outputs": [
    {
     "data": {
      "text/plain": [
       "title         object\n",
       "score          int64\n",
       "id            object\n",
       "url           object\n",
       "comms_num      int64\n",
       "created      float64\n",
       "body          object\n",
       "timestamp     object\n",
       "dtype: object"
      ]
     },
     "execution_count": 6,
     "metadata": {},
     "output_type": "execute_result"
    }
   ],
   "source": [
    "df.dtypes"
   ]
  },
  {
   "cell_type": "markdown",
   "metadata": {},
   "source": [
    "## Two target columns.\n",
    "The goal of the project will be to predict the most popular posts (with high score and/or many comments).\n",
    "\n",
    "The high averages are due to very large maxima - the median is small."
   ]
  },
  {
   "cell_type": "code",
   "execution_count": 7,
   "metadata": {},
   "outputs": [
    {
     "data": {
      "text/html": [
       "<div>\n",
       "<style scoped>\n",
       "    .dataframe tbody tr th:only-of-type {\n",
       "        vertical-align: middle;\n",
       "    }\n",
       "\n",
       "    .dataframe tbody tr th {\n",
       "        vertical-align: top;\n",
       "    }\n",
       "\n",
       "    .dataframe thead th {\n",
       "        text-align: right;\n",
       "    }\n",
       "</style>\n",
       "<table border=\"1\" class=\"dataframe\">\n",
       "  <thead>\n",
       "    <tr style=\"text-align: right;\">\n",
       "      <th></th>\n",
       "      <th>score</th>\n",
       "      <th>comms_num</th>\n",
       "    </tr>\n",
       "  </thead>\n",
       "  <tbody>\n",
       "    <tr>\n",
       "      <th>count</th>\n",
       "      <td>32511.000000</td>\n",
       "      <td>32511.000000</td>\n",
       "    </tr>\n",
       "    <tr>\n",
       "      <th>mean</th>\n",
       "      <td>996.129402</td>\n",
       "      <td>117.292578</td>\n",
       "    </tr>\n",
       "    <tr>\n",
       "      <th>std</th>\n",
       "      <td>7691.208445</td>\n",
       "      <td>1759.580068</td>\n",
       "    </tr>\n",
       "    <tr>\n",
       "      <th>min</th>\n",
       "      <td>0.000000</td>\n",
       "      <td>0.000000</td>\n",
       "    </tr>\n",
       "    <tr>\n",
       "      <th>25%</th>\n",
       "      <td>1.000000</td>\n",
       "      <td>1.000000</td>\n",
       "    </tr>\n",
       "    <tr>\n",
       "      <th>50%</th>\n",
       "      <td>9.000000</td>\n",
       "      <td>6.000000</td>\n",
       "    </tr>\n",
       "    <tr>\n",
       "      <th>75%</th>\n",
       "      <td>106.000000</td>\n",
       "      <td>28.000000</td>\n",
       "    </tr>\n",
       "    <tr>\n",
       "      <th>max</th>\n",
       "      <td>348241.000000</td>\n",
       "      <td>89050.000000</td>\n",
       "    </tr>\n",
       "  </tbody>\n",
       "</table>\n",
       "</div>"
      ],
      "text/plain": [
       "               score     comms_num\n",
       "count   32511.000000  32511.000000\n",
       "mean      996.129402    117.292578\n",
       "std      7691.208445   1759.580068\n",
       "min         0.000000      0.000000\n",
       "25%         1.000000      1.000000\n",
       "50%         9.000000      6.000000\n",
       "75%       106.000000     28.000000\n",
       "max    348241.000000  89050.000000"
      ]
     },
     "execution_count": 7,
     "metadata": {},
     "output_type": "execute_result"
    }
   ],
   "source": [
    "df.describe().loc[:, ['score', 'comms_num']]"
   ]
  },
  {
   "cell_type": "markdown",
   "metadata": {},
   "source": [
    "## Text preprocessing:\n",
    "Steps:\n",
    "- removing punctuation\n",
    "- deletion of stopwords\n",
    "- replacing emoji with tokens, e.g. emoji_rocket\n",
    "- lemmatisation\n",
    "- convert all letters to lowercase"
   ]
  },
  {
   "cell_type": "code",
   "execution_count": 8,
   "metadata": {},
   "outputs": [
    {
     "name": "stdout",
     "output_type": "stream",
     "text": [
      "hello better emoji_rocket emoji_rocket emoji_rocket\n"
     ]
    }
   ],
   "source": [
    "def extract_emoji(sent):\n",
    "    doc = sent\n",
    "    res = []\n",
    "    drop = False\n",
    "    for token in doc:\n",
    "        if drop:\n",
    "            drop = False\n",
    "            continue\n",
    "        elif token.text == '\\u200d':\n",
    "            drop = True\n",
    "            continue\n",
    "        if token._.is_emoji:\n",
    "            if token._.emoji_desc:\n",
    "                res.append(\"emoji_\"+\"_\".join(token._.emoji_desc.split()))\n",
    "        else:\n",
    "            res.append(token.text)\n",
    "    res = ' '.join(res)\n",
    "    return nlp(res.strip())\n",
    "\n",
    "\n",
    "def preprocess_text(txt, join=True):\n",
    "    doc = nlp(txt)\n",
    "    txt_no_punctuation = [t for t in doc if t.text not in string.punctuation]\n",
    "    txt_no_stopwords = [t for t in txt_no_punctuation if not t.is_stop]\n",
    "    txt_no_stopwords = extract_emoji(txt_no_stopwords)\n",
    "    txt_lemmatized = [t.lemma_ for t in txt_no_stopwords]\n",
    "    if join:\n",
    "        txt_lowered = ' '.join([t.lower() for t in txt_lemmatized])\n",
    "    else:\n",
    "        txt_lowered = [t.lower() for t in txt_lemmatized]\n",
    "    return txt_lowered\n",
    "\n",
    "\n",
    "print(preprocess_text('Hello, is that Better you?🚀🚀🚀'))"
   ]
  },
  {
   "cell_type": "code",
   "execution_count": 9,
   "metadata": {},
   "outputs": [
    {
     "name": "stderr",
     "output_type": "stream",
     "text": [
      "100%|██████████| 32511/32511 [04:07<00:00, 131.27it/s]\n",
      "100%|██████████| 32511/32511 [04:58<00:00, 109.00it/s]\n"
     ]
    }
   ],
   "source": [
    "tqdm.pandas()\n",
    "df['preprocessed_title'] = df.title.progress_apply(preprocess_text)\n",
    "df['preprocessed_body'] = df.body.fillna('').progress_apply(preprocess_text)"
   ]
  },
  {
   "cell_type": "markdown",
   "metadata": {},
   "source": [
    "## Analysis of the title column\n",
    "This column contains the titles of the Reddit posts"
   ]
  },
  {
   "cell_type": "code",
   "execution_count": 10,
   "metadata": {},
   "outputs": [
    {
     "data": {
      "image/png": "[encoded data removed]",
      "text/plain": [
       "<Figure size 1008x288 with 2 Axes>"
      ]
     },
     "metadata": {
      "needs_background": "light"
     },
     "output_type": "display_data"
    }
   ],
   "source": [
    "def plot_num_words_in_subplots(texts, texts_processed, yscale='linear'):\n",
    "    fig, ax = plt.subplots(nrows=1, ncols=2, figsize=(14,4))\n",
    "\n",
    "    sns.histplot(ax=ax[0], x=texts.str.split().apply(len), bins=50)\n",
    "    ax[0].set(xlabel='Number of tokens', title='Distribution of the number of words')\n",
    "    ax[0].set_yscale(yscale)\n",
    "    \n",
    "    sns.histplot(ax=ax[1], x=texts_processed.str.split().apply(len), bins=50)\n",
    "    ax[1].set(xlabel='Number of tokens', title='Distribution of the number of words after preprocessing')\n",
    "    ax[1].set_yscale(yscale) \n",
    "    \n",
    "    plt.show()\n",
    "    \n",
    "plot_num_words_in_subplots(df.title, df.preprocessed_title)"
   ]
  },
  {
   "cell_type": "markdown",
   "metadata": {},
   "source": [
    "**Most titles consist of several words.**"
   ]
  },
  {
   "cell_type": "markdown",
   "metadata": {},
   "source": [
    "### The longest title after processing\n",
    "Its length results from the fact that each emoji is treated as a word"
   ]
  },
  {
   "cell_type": "code",
   "execution_count": 11,
   "metadata": {},
   "outputs": [
    {
     "data": {
      "text/plain": [
       "'TAKE IT TO THE FUCKING MOON 🚀🚀🚀🚀🚀🚀🚀🚀🚀🚀🚀🚀🚀🚀🚀🚀🚀🚀🚀🚀🚀🚀🚀🚀🚀🚀🚀🚀🚀🚀🚀🚀🚀🚀🚀🚀🚀🚀🚀🚀🚀🚀🚀🚀🚀🚀🚀🚀🚀🚀🚀🚀🚀🚀🚀🚀🚀🚀🚀🚀🚀🚀🚀🚀🚀🚀🚀🚀🚀🚀🚀🚀🚀🚀🚀🚀🚀🚀🚀🚀🚀🚀🚀🚀🚀🚀🚀🚀🚀🚀🚀🚀🚀🚀🚀🚀🚀🚀🚀🚀🚀🚀🚀🚀🚀🚀🚀🚀🚀🚀🚀🚀🚀🚀🚀🚀🚀🚀🚀🚀🚀🚀🚀🚀🚀🚀🚀🚀🚀🚀🚀🚀🚀🚀🚀🚀'"
      ]
     },
     "execution_count": 11,
     "metadata": {},
     "output_type": "execute_result"
    }
   ],
   "source": [
    "df.title.loc[df.preprocessed_title.str.split().apply(len) == 138].item()"
   ]
  },
  {
   "cell_type": "code",
   "execution_count": 12,
   "metadata": {},
   "outputs": [
    {
     "data": {
      "image/png": "[encoded data removed]",
      "text/plain": [
       "<Figure size 600x600 with 1 Axes>"
      ]
     },
     "metadata": {
      "needs_background": "light"
     },
     "output_type": "display_data"
    }
   ],
   "source": [
    "def plot_most_frequent_words(texts):\n",
    "    words = \" \".join(texts).split()\n",
    "    \n",
    "    cnt = Counter(words)\n",
    "    y = [count for _, count in cnt.most_common(30)][::-1]\n",
    "    x = [tag for tag, _ in cnt.most_common(30)][::-1]\n",
    "\n",
    "    fig = plt.figure(figsize=(6, 6), dpi=100)\n",
    "    plt.barh(x, y)\n",
    "    plt.title(\"Most frequent words (after preprocessing)\")\n",
    "    plt.xlabel(\"Number of occurrences\")\n",
    "    plt.tight_layout()\n",
    "    plt.show()\n",
    "\n",
    "plot_most_frequent_words(df.preprocessed_title)"
   ]
  },
  {
   "cell_type": "markdown",
   "metadata": {},
   "source": [
    "### Specific terminology appears here:\n",
    "- **rocket / emoji_rocket / fly / to the moon:** denotes a belief that share prices will rise\n",
    "- **gme** - GameStop company, whose shares users bought\n",
    "- **amc** - AMC Entertainment, whose shares were also bought by Reddit users\n",
    "- **diamond / hold / emoji_gemstone / emoji_gemstone + emoji_raising_hands:** - they encourage people to hold on to their shares and not sell them, which will cause the price to rise further\n",
    "- **robinhood** - a platform on which users bought shares\n",
    "- **monkey / emoji_gorilla / ape / apes together strong** - a slogan taken from the movie Rise of the Planet of the Apes (2011), which means that users must stick together\n",
    "- other words are mostly related to the stock market"
   ]
  },
  {
   "cell_type": "markdown",
   "metadata": {},
   "source": [
    "## Analysis of the body column\n",
    "This column contains the text of posts uploaded to reddit. Some posts only have a link, image, or video, and then they don't have a body"
   ]
  },
  {
   "cell_type": "code",
   "execution_count": 13,
   "metadata": {},
   "outputs": [
    {
     "name": "stdout",
     "output_type": "stream",
     "text": [
      "Number of rows WITHOUT a body: 15636\n",
      "Number of rows WITH a body: 16875\n"
     ]
    }
   ],
   "source": [
    "print(f'Number of rows WITHOUT a body: {df.body.isna().sum()}')\n",
    "print(f'Number of rows WITH a body: {df.body.count()}')"
   ]
  },
  {
   "cell_type": "code",
   "execution_count": 14,
   "metadata": {},
   "outputs": [
    {
     "data": {
      "image/png": "[encoded data removed]",
      "text/plain": [
       "<Figure size 1008x288 with 2 Axes>"
      ]
     },
     "metadata": {
      "needs_background": "light"
     },
     "output_type": "display_data"
    }
   ],
   "source": [
    "plot_num_words_in_subplots(df.body.fillna(''), df.preprocessed_body, yscale='log')"
   ]
  },
  {
   "cell_type": "markdown",
   "metadata": {},
   "source": [
    "**After preprocessing, the length of the body is reduced because there are not so many emoji and some words are removed**"
   ]
  },
  {
   "cell_type": "code",
   "execution_count": 15,
   "metadata": {},
   "outputs": [
    {
     "data": {
      "image/png": "[encoded data removed]",
      "text/plain": [
       "<Figure size 600x600 with 1 Axes>"
      ]
     },
     "metadata": {
      "needs_background": "light"
     },
     "output_type": "display_data"
    }
   ],
   "source": [
    "plot_most_frequent_words(df.preprocessed_body)"
   ]
  },
  {
   "cell_type": "markdown",
   "metadata": {},
   "source": [
    "**The words are similar to those in the titles**"
   ]
  },
  {
   "cell_type": "markdown",
   "metadata": {},
   "source": [
    "## Analysis of the id column\n",
    "The column contains unique identifiers for posts."
   ]
  },
  {
   "cell_type": "code",
   "execution_count": 16,
   "metadata": {},
   "outputs": [
    {
     "name": "stdout",
     "output_type": "stream",
     "text": [
      "Number of ids: 32511\n"
     ]
    },
    {
     "data": {
      "text/plain": [
       "4205     l6zgjf\n",
       "21961    layh6t\n",
       "28244    ld4xhx\n",
       "20773    lagvnn\n",
       "19931    l9xkny\n",
       "Name: id, dtype: object"
      ]
     },
     "execution_count": 16,
     "metadata": {},
     "output_type": "execute_result"
    }
   ],
   "source": [
    "print(f'Number of ids: {len(df.id.unique())}')\n",
    "df.id.sample(5)"
   ]
  },
  {
   "cell_type": "markdown",
   "metadata": {},
   "source": [
    "## Analysis of the url column\n",
    "The url column contains links attached to posts. One post always has one link. Most often these are links to the original posts on reddit. Apart from these, the most commonly attached page types include:\n",
    "* twitter\n",
    "* websites with video clips (youtube, streamable)\n",
    "* photo sharing websites (imgur, ibb)\n",
    "* news portals, rather oriented to finance and investment  (finance.yahoo, bloomberg, cnbc, wsj, reuters)\n",
    "\n",
    "**In the first step, a column with the top-level domain is created**"
   ]
  },
  {
   "cell_type": "code",
   "execution_count": 17,
   "metadata": {},
   "outputs": [],
   "source": [
    "df['url_netloc'] = df.url.apply(lambda path: urlparse(path).netloc)"
   ]
  },
  {
   "cell_type": "code",
   "execution_count": 18,
   "metadata": {},
   "outputs": [
    {
     "name": "stdout",
     "output_type": "stream",
     "text": [
      "Number of unique links 402\n",
      "Number of unique most frequent links 19\n"
     ]
    }
   ],
   "source": [
    "cnt_urls = Counter(df.url_netloc)\n",
    "cnt_urls_sorted = cnt_urls.most_common()[::-1]\n",
    "\n",
    "dict_common_urls = {tag: count for tag, count in cnt_urls_sorted if count > 10}\n",
    "print(f'Number of unique links {len(cnt_urls)}')\n",
    "print(f'Number of unique most frequent links {len(dict_common_urls)}')\n",
    "# print(f'Najczęściej wystepujące linki:\\n {cnt_urls.most_common(10)}')"
   ]
  },
  {
   "cell_type": "code",
   "execution_count": 19,
   "metadata": {},
   "outputs": [
    {
     "data": {
      "image/png": "[encoded data removed]",
      "text/plain": [
       "<Figure size 600x400 with 1 Axes>"
      ]
     },
     "metadata": {},
     "output_type": "display_data"
    }
   ],
   "source": [
    "fig = plt.figure(figsize=(6, 4), dpi= 100, facecolor='w', edgecolor='k')\n",
    "# count_of_reddit_urls = sum(list(dict_common_urls.values())[-3:])\n",
    "plt.barh(list(dict_common_urls.keys()), list(dict_common_urls.values()))\n",
    "plt.title(f\"Most frequent websites\\n\")\n",
    "plt.xlabel(\"Number of occurrences\")\n",
    "plt.xscale('log')\n",
    "plt.tight_layout()\n",
    "plt.show()"
   ]
  },
  {
   "cell_type": "markdown",
   "metadata": {},
   "source": [
    "### Grouping of the url's"
   ]
  },
  {
   "cell_type": "code",
   "execution_count": 20,
   "metadata": {},
   "outputs": [
    {
     "data": {
      "image/png": "[encoded data removed]",
      "text/plain": [
       "<Figure size 400x400 with 1 Axes>"
      ]
     },
     "metadata": {},
     "output_type": "display_data"
    }
   ],
   "source": [
    "def create_grouping_dict(urls, verbose=False):\n",
    "    d = {}\n",
    "    grouped = set()\n",
    "    \n",
    "    patterns = [\n",
    "        r\".*(reddit).*\",  # reddit self-posts\n",
    "        r\"(i.redd.it)\",  # reddit images\n",
    "        r\"(v.redd.it)\",  # reddit videos\n",
    "        r\".*(twitter|facebook|instagram).*\",  # social media\n",
    "        r\".*(youtu|twitch|streamable|vimeo|tiktok).*\",  # other videos\n",
    "        r\".*(img|gfy|ibb).*\"  # other images\n",
    "    ]\n",
    "    \n",
    "    for i, pattern in enumerate(patterns):\n",
    "        matched = list(filter(re.compile(pattern).match, urls))\n",
    "        d.update({m:i for m in matched})\n",
    "        grouped.update(matched)\n",
    "        if verbose:\n",
    "            print(f'{i}: {matched}')\n",
    "\n",
    "    # last group for all unmatched urls, mostly news articles \n",
    "    others = set(urls) - grouped\n",
    "    d.update({o:i+1 for o in others})\n",
    "    if verbose:\n",
    "        print(f'others: {others}')\n",
    "        print(set(d.keys()) == set(urls))\n",
    "    \n",
    "    return d\n",
    "\n",
    "mapping = create_grouping_dict(df.url_netloc.unique().tolist())\n",
    "\n",
    "fig = plt.figure(figsize=(4, 4), dpi= 100, facecolor='w', edgecolor='k')\n",
    "sns.histplot(df.url_netloc.map(mapping))\n",
    "plt.yscale('log')\n",
    "plt.xlabel('Group')\n",
    "plt.ylabel('Count')\n",
    "plt.title('Distribution of created groups of links')\n",
    "plt.show()"
   ]
  },
  {
   "cell_type": "markdown",
   "metadata": {},
   "source": [
    " - **Group 0** collects so-called **self-posts** (source: [reddit/r/help](https://www.reddit.com/r/help/comments/16secs/what_is_a_self_post/)), which contain text alone and do not lead to external pages.\n",
    " - **Group 1** collects images added via i.redd.it\n",
    " - **Group 2** collects videos added via v.redd.it\n",
    " - **Group 3** collects links to social media\n",
    " - **Group 4** gathers videos uploaded through external services\n",
    " - **Group 5** gathers photos and images uploaded through external services\n",
    " - **Group 6** gathers other links, usually from news sites"
   ]
  },
  {
   "cell_type": "markdown",
   "metadata": {},
   "source": [
    "## Analysis of the score column\n",
    "This column contains **outdated values**. In the next steps, it will be necessary to use the API to update them."
   ]
  },
  {
   "cell_type": "code",
   "execution_count": 21,
   "metadata": {},
   "outputs": [
    {
     "data": {
      "image/png": "[encoded data removed]",
      "text/plain": [
       "<Figure size 432x288 with 1 Axes>"
      ]
     },
     "metadata": {
      "needs_background": "light"
     },
     "output_type": "display_data"
    },
    {
     "name": "stdout",
     "output_type": "stream",
     "text": [
      "The number of rows with a score value equal to 0: 2064\n"
     ]
    },
    {
     "data": {
      "text/plain": [
       "count     32511.000000\n",
       "mean        996.129402\n",
       "std        7691.208445\n",
       "min           0.000000\n",
       "25%           1.000000\n",
       "50%           9.000000\n",
       "75%         106.000000\n",
       "max      348241.000000\n",
       "Name: score, dtype: float64"
      ]
     },
     "execution_count": 21,
     "metadata": {},
     "output_type": "execute_result"
    }
   ],
   "source": [
    "ax = sns.histplot(x=df.score.loc[df.score > 0], bins=50)\n",
    "ax.set(xlabel='Number of points', ylabel='Count', title='Distribution of the number of points')\n",
    "plt.yscale('log')\n",
    "plt.show()\n",
    "\n",
    "print(f'The number of rows with a score value equal to 0: {df.score.loc[df.score == 0].count()}')\n",
    "df.score.describe()"
   ]
  },
  {
   "cell_type": "markdown",
   "metadata": {},
   "source": [
    "## Analysis of the comms_num column\n",
    "Just like the number of scores, the values in this column are also outdated and will need to be updated using the Reddit API."
   ]
  },
  {
   "cell_type": "code",
   "execution_count": 22,
   "metadata": {},
   "outputs": [
    {
     "data": {
      "image/png": "[encoded data removed]",
      "text/plain": [
       "<Figure size 432x288 with 1 Axes>"
      ]
     },
     "metadata": {
      "needs_background": "light"
     },
     "output_type": "display_data"
    },
    {
     "name": "stdout",
     "output_type": "stream",
     "text": [
      "Number of rows with number of comments equal to 0: 6206\n"
     ]
    },
    {
     "data": {
      "text/plain": [
       "count    32511.000000\n",
       "mean       117.292578\n",
       "std       1759.580068\n",
       "min          0.000000\n",
       "25%          1.000000\n",
       "50%          6.000000\n",
       "75%         28.000000\n",
       "max      89050.000000\n",
       "Name: comms_num, dtype: float64"
      ]
     },
     "execution_count": 22,
     "metadata": {},
     "output_type": "execute_result"
    }
   ],
   "source": [
    "ax = sns.histplot(x=df.comms_num, bins=100)\n",
    "ax.set(xlabel='Number of comments', ylabel='Count', title='Distribution of the comment number')\n",
    "plt.yscale('log')\n",
    "plt.show()\n",
    "\n",
    "print(f'Number of rows with number of comments equal to 0: {df.comms_num.loc[df.comms_num == 0].count()}')\n",
    "df.comms_num.describe()"
   ]
  },
  {
   "cell_type": "markdown",
   "metadata": {},
   "source": [
    "## Analysis of the created column\n",
    "This column corresponds to the timestamp column. We have decided to use timestamp."
   ]
  },
  {
   "cell_type": "code",
   "execution_count": 23,
   "metadata": {},
   "outputs": [
    {
     "data": {
      "text/plain": [
       "19168    1612111979\n",
       "28120    1612545293\n",
       "27012    1612492377\n",
       "4175     1611876020\n",
       "16065    1611900323\n",
       "Name: created, dtype: int64"
      ]
     },
     "execution_count": 23,
     "metadata": {},
     "output_type": "execute_result"
    }
   ],
   "source": [
    "df.created.astype(int).sample(5)"
   ]
  },
  {
   "cell_type": "code",
   "execution_count": 24,
   "metadata": {},
   "outputs": [
    {
     "data": {
      "image/png": "[encoded data removed]",
      "text/plain": [
       "<Figure size 432x288 with 1 Axes>"
      ]
     },
     "metadata": {
      "needs_background": "light"
     },
     "output_type": "display_data"
    }
   ],
   "source": [
    "ax = sns.histplot(df.created)\n",
    "ax.set(xlabel='Time', title='The distribution of values in the created column')\n",
    "plt.show()"
   ]
  },
  {
   "cell_type": "markdown",
   "metadata": {},
   "source": [
    "## Analysis of the timestamp column\n",
    "The column contains the date when the post was created. The analysis covers the period from 20.01.2021 to 10.02.2021. The time of posts in the column is shifted in relation to the Polish one by **9 hours forward**. The main events related to GameStop's share price took place on January 28-29, 2021."
   ]
  },
  {
   "cell_type": "code",
   "execution_count": 25,
   "metadata": {},
   "outputs": [],
   "source": [
    "ts_dt = pd.to_datetime(df.timestamp)"
   ]
  },
  {
   "cell_type": "code",
   "execution_count": 26,
   "metadata": {},
   "outputs": [
    {
     "name": "stdout",
     "output_type": "stream",
     "text": [
      "First day in the collection 2021-01-28 09:08:16\n",
      "Last day in the collection 2021-02-10 23:51:19\n"
     ]
    }
   ],
   "source": [
    "print(f'First day in the collection {ts_dt.min()}')\n",
    "print(f'Last day in the collection {ts_dt.max()}')"
   ]
  },
  {
   "cell_type": "code",
   "execution_count": 27,
   "metadata": {},
   "outputs": [
    {
     "data": {
      "image/png": "[encoded data removed]",
      "text/plain": [
       "<Figure size 432x288 with 1 Axes>"
      ]
     },
     "metadata": {
      "needs_background": "light"
     },
     "output_type": "display_data"
    }
   ],
   "source": [
    "sns.histplot(ts_dt.dt.dayofyear - pd.Timestamp('2021-01-20').dayofyear, bins=14)\n",
    "plt.ylabel(\"Number of posts\")\n",
    "plt.title(\"Number of posts from a given day\")\n",
    "plt.xlabel(\"Day (counted from January 20)\")\n",
    "plt.show()"
   ]
  },
  {
   "cell_type": "code",
   "execution_count": 28,
   "metadata": {},
   "outputs": [
    {
     "data": {
      "image/png": "[encoded data removed]",
      "text/plain": [
       "<Figure size 864x288 with 2 Axes>"
      ]
     },
     "metadata": {
      "needs_background": "light"
     },
     "output_type": "display_data"
    }
   ],
   "source": [
    "day_names = ['Monday', 'Tuesday', 'Wednesday', 'Thursday', 'Friday', 'Saturday', 'Sunday']\n",
    "\n",
    "fig, ax = plt.subplots(nrows=1, ncols=2, figsize=(12, 4))\n",
    "ts_dt.groupby(ts_dt.dt.weekday).count().plot(kind='bar', ax=ax[0])\n",
    "ax[0].set_xticklabels(day_names)\n",
    "ax[0].set_ylabel(\"Number of posts\")\n",
    "ax[0].set_title(\"Number of posts of the given day of the week\")\n",
    "\n",
    "without_01_29_21 = ts_dt.loc[ts_dt.dt.date != pd.Timestamp('2021-01-29')].dt.weekday\n",
    "\n",
    "ts_dt.groupby(without_01_29_21).count().plot(kind='bar', ax=ax[1])\n",
    "\n",
    "ax[1].set_xticklabels(day_names)\n",
    "ax[1].set_title(\"Number of posts(excluding 29.01.2021)\")\n",
    "plt.show()"
   ]
  },
  {
   "cell_type": "code",
   "execution_count": 29,
   "metadata": {},
   "outputs": [
    {
     "data": {
      "image/png": "[encoded data removed]",
      "text/plain": [
       "<Figure size 1152x288 with 2 Axes>"
      ]
     },
     "metadata": {
      "needs_background": "light"
     },
     "output_type": "display_data"
    }
   ],
   "source": [
    "fig, ax = plt.subplots(nrows=1, ncols=2, figsize=(16, 4))\n",
    "\n",
    "sns.histplot(ts_dt.dt.hour, ax=ax[0], bins=24)\n",
    "ax[0].set_ylabel(\"Number of posts\")\n",
    "ax[0].set_title(\"Number of posts for the given hour\")\n",
    "ax[0].set_xlabel(\"Hour\")\n",
    "\n",
    "sns.histplot(ts_dt.loc[ts_dt.dt.date != pd.Timestamp('2021-01-29')].dt.hour, ax=ax[1], bins=24)\n",
    "ax[1].set_ylabel(\"\")\n",
    "ax[1].set_title(\"Number of posts (excluding 29.01.2021)\")\n",
    "ax[1].set_xlabel(\"Hour\")\n",
    "plt.show()"
   ]
  },
  {
   "cell_type": "markdown",
   "metadata": {},
   "source": [
    "# Analysis of words in posts according to score"
   ]
  },
  {
   "cell_type": "code",
   "execution_count": 30,
   "metadata": {},
   "outputs": [],
   "source": [
    "from sklearn.feature_extraction.text import CountVectorizer\n",
    "\n",
    "# Term document freq - number of documents where the term t appears\n",
    "def TDF(df, feature=\"title\"):\n",
    "    vectorizer = CountVectorizer()\n",
    "    X_vec = vectorizer.fit_transform(df[feature].fillna(\"\"))\n",
    "    X_vec[X_vec>0] = 1\n",
    "    doc_f = {w: f/X_vec.shape[0] for w, f in zip(vectorizer.get_feature_names(), \n",
    "                          np.array(X_vec.sum(axis=0))[0])}\n",
    "    doc_f = dict(sorted(doc_f.items(), key=lambda item: item[1], reverse=True))\n",
    "    return doc_f\n",
    "\n",
    "def compare_TDF(best_tdf, worst_tdf, top_k=20):\n",
    "    words = set(list(best_tdf.keys()) + list(worst_tdf.keys()))\n",
    "    diff = {}\n",
    "    for w in words:\n",
    "        if w in best_tdf and w in worst_tdf:\n",
    "            diff[w] = best_tdf[w]-worst_tdf[w]\n",
    "        elif w in best_tdf:\n",
    "            diff[w] = best_tdf[w]\n",
    "        else:\n",
    "            diff[w] = -worst_tdf[w]\n",
    "    return dict(sorted(diff.items(), key=lambda item: item[1], reverse=True)[:top_k])\n",
    "\n",
    "\n",
    "def top_k_words(word2score, top_k):\n",
    "    for i, (word, value) in enumerate(word2score.items()):\n",
    "        if i>top_k-1:\n",
    "            break\n",
    "        print(f\"{word:20}: {value:.5f}\")"
   ]
  },
  {
   "cell_type": "code",
   "execution_count": 31,
   "metadata": {},
   "outputs": [
    {
     "name": "stdout",
     "output_type": "stream",
     "text": [
      "10% posts with highest score - min score is: 486\n",
      "50% posts with loweset score - max score is: 9\n"
     ]
    }
   ],
   "source": [
    "best_ratio = int(1*len(df)/10)\n",
    "worst_ratio = int(5*len(df)/10)\n",
    "best_score = df.nlargest(int(1*len(df)/10), \"score\")\n",
    "worst_score = df.nsmallest(int(5*len(df)/10), \"score\")\n",
    "best_perc_ratio = int(np.round(best_ratio/len(df), 2) * 100)\n",
    "worst_perc_ratio = int(np.round(worst_ratio/len(df), 2) * 100)\n",
    "print(f\"{best_perc_ratio}% posts with highest score - min score is: {best_score.score.min()}\")\n",
    "print(f\"{worst_perc_ratio}% posts with loweset score - max score is: {worst_score.score.max()}\")"
   ]
  },
  {
   "cell_type": "markdown",
   "metadata": {},
   "source": [
    "## Analysis of words in posts with high scores"
   ]
  },
  {
   "cell_type": "markdown",
   "metadata": {},
   "source": [
    "**Title**"
   ]
  },
  {
   "cell_type": "code",
   "execution_count": 32,
   "metadata": {},
   "outputs": [
    {
     "name": "stdout",
     "output_type": "stream",
     "text": [
      "['gme', 'emoji_rocket', 'emoji_gem_stone', 'hold', 'buy', 'amc', 'sell', 'robinhood', 'share', 'short', 'emoji_raising_hand', 'stock', 'like', 'wsb', 'today', 'moon', 'squeeze', 'go', 'gamestop', 'market']\n"
     ]
    }
   ],
   "source": [
    "best_score_tdf_title = TDF(best_score, feature=\"preprocessed_title\")\n",
    "print(list(best_score_tdf_title.keys())[:20])"
   ]
  },
  {
   "cell_type": "markdown",
   "metadata": {},
   "source": [
    "**Body**"
   ]
  },
  {
   "cell_type": "code",
   "execution_count": 33,
   "metadata": {},
   "outputs": [
    {
     "name": "stdout",
     "output_type": "stream",
     "text": [
      "['gme', 'stock', 'buy', 'like', 'share', 'hold', 'know', 'short', 'go', 'sell', 'people', 'day', 'time', 'money', 'market', 'financial', 'https', 'edit', 'get', 'want']\n"
     ]
    }
   ],
   "source": [
    "best_score_tdf_body = TDF(best_score, feature=\"preprocessed_body\")\n",
    "print(list(best_score_tdf_body.keys())[:20])"
   ]
  },
  {
   "cell_type": "markdown",
   "metadata": {},
   "source": [
    "## Analysis of words in posts with low scores"
   ]
  },
  {
   "cell_type": "markdown",
   "metadata": {},
   "source": [
    "**Title**"
   ]
  },
  {
   "cell_type": "code",
   "execution_count": 37,
   "metadata": {},
   "outputs": [
    {
     "name": "stdout",
     "output_type": "stream",
     "text": [
      "['gme', 'buy', 'robinhood', 'hold', 'amc', 'emoji_rocket', 'sell', 'stock', 'let', 'bb', 'nok', 'go', 'fuck', 'moon', 'app', 'emoji_gem_stone', 'short', 'dip', 'trade', 'market']\n"
     ]
    }
   ],
   "source": [
    "worst_score_tdf_title = TDF(worst_score, feature=\"preprocessed_title\")\n",
    "print(list(worst_score_tdf_title.keys())[:20])"
   ]
  },
  {
   "cell_type": "markdown",
   "metadata": {},
   "source": [
    "**Body**"
   ]
  },
  {
   "cell_type": "code",
   "execution_count": 38,
   "metadata": {},
   "outputs": [
    {
     "name": "stdout",
     "output_type": "stream",
     "text": [
      "['buy', 'gme', 'stock', 'hold', 'robinhood', 'sell', 'like', 'go', 'know', 'let', 'market', 'money', 'share', 'people', 'amc', 'fuck', 'emoji_rocket', 'short', 'want', 'get']\n"
     ]
    }
   ],
   "source": [
    "worst_score_tdf_body = TDF(worst_score, feature=\"preprocessed_body\")\n",
    "print(list(worst_score_tdf_body.keys())[:20])"
   ]
  },
  {
   "cell_type": "markdown",
   "metadata": {},
   "source": [
    "## Comparison of words between posts with high and low score"
   ]
  },
  {
   "cell_type": "markdown",
   "metadata": {},
   "source": [
    "**Titles comparison**"
   ]
  },
  {
   "cell_type": "code",
   "execution_count": 39,
   "metadata": {},
   "outputs": [
    {
     "name": "stdout",
     "output_type": "stream",
     "text": [
      "emoji_gem_stone     : 0.11418\n",
      "emoji_rocket        : 0.07468\n",
      "gme                 : 0.06035\n",
      "emoji_raising_hand  : 0.04042\n",
      "share               : 0.02855\n",
      "short               : 0.02535\n",
      "wsb                 : 0.02289\n",
      "week                : 0.02030\n",
      "diamond             : 0.01950\n",
      "retard              : 0.01932\n",
      "gamestop            : 0.01876\n",
      "hand                : 0.01809\n",
      "squeeze             : 0.01772\n",
      "like                : 0.01630\n",
      "emoji_open_hand     : 0.01587\n",
      "2021                : 0.01581\n",
      "day                 : 0.01538\n",
      "hedge               : 0.01526\n",
      "today               : 0.01476\n",
      "say                 : 0.01470\n"
     ]
    }
   ],
   "source": [
    "top_20_tdf_score_title = compare_TDF(best_score_tdf_title, worst_score_tdf_title, top_k=20)\n",
    "top_k_words(top_20_tdf_score_title, top_k=20)"
   ]
  },
  {
   "cell_type": "markdown",
   "metadata": {},
   "source": [
    "**Bodies Comparison**"
   ]
  },
  {
   "cell_type": "code",
   "execution_count": 40,
   "metadata": {},
   "outputs": [
    {
     "name": "stdout",
     "output_type": "stream",
     "text": [
      "edit                : 0.10994\n",
      "share               : 0.10261\n",
      "short               : 0.09357\n",
      "day                 : 0.09253\n",
      "financial           : 0.09240\n",
      "like                : 0.08797\n",
      "know                : 0.08582\n",
      "people              : 0.08459\n",
      "time                : 0.07764\n",
      "go                  : 0.07512\n",
      "post                : 0.07505\n",
      "week                : 0.07352\n",
      "com                 : 0.07204\n",
      "https               : 0.07198\n",
      "squeeze             : 0.06896\n",
      "position            : 0.06829\n",
      "price               : 0.06638\n",
      "sell                : 0.06626\n",
      "advice              : 0.06583\n",
      "get                 : 0.06576\n"
     ]
    }
   ],
   "source": [
    "top_20_tdf_score_body = compare_TDF(best_score_tdf_body, worst_score_tdf_body, top_k=20)\n",
    "top_k_words(top_20_tdf_score_body, top_k=20)"
   ]
  },
  {
   "cell_type": "markdown",
   "metadata": {},
   "source": [
    "## Analysis of words in posts with score 0"
   ]
  },
  {
   "cell_type": "markdown",
   "metadata": {},
   "source": [
    "**Title**"
   ]
  },
  {
   "cell_type": "code",
   "execution_count": 38,
   "metadata": {},
   "outputs": [
    {
     "name": "stdout",
     "output_type": "stream",
     "text": [
      "['gme', 'buy', 'stock', 'emoji_rocket', 'short', 'sell', 'squeeze', 'amc', 'hold', 'let', 'moon', 'go', 'robinhood', 'new', 'like', 'money', 'good', 'gamestop', 'time', 'know']\n"
     ]
    }
   ],
   "source": [
    "score_0_tdf_title = TDF(df[df.score==0], feature=\"preprocessed_title\")\n",
    "print(list(score_0_tdf_title.keys())[:20])"
   ]
  },
  {
   "cell_type": "markdown",
   "metadata": {},
   "source": [
    "**Body**"
   ]
  },
  {
   "cell_type": "code",
   "execution_count": 39,
   "metadata": {},
   "outputs": [
    {
     "name": "stdout",
     "output_type": "stream",
     "text": [
      "['stock', 'gme', 'buy', 'like', 'go', 'short', 'money', 'know', 'hold', 'share', 'people', 'sell', 'think', 'market', 'get', 'time', 'good', 'want', 'price', 'let']\n"
     ]
    }
   ],
   "source": [
    "score_0_tdf_body = TDF(df[df.score==0], feature=\"preprocessed_body\")\n",
    "print(list(score_0_tdf_body.keys())[:20])"
   ]
  },
  {
   "cell_type": "markdown",
   "metadata": {},
   "source": [
    "## Analysis of words in posts with the smallest number of comments"
   ]
  },
  {
   "cell_type": "markdown",
   "metadata": {},
   "source": [
    "**Title**"
   ]
  },
  {
   "cell_type": "code",
   "execution_count": 41,
   "metadata": {},
   "outputs": [
    {
     "name": "stdout",
     "output_type": "stream",
     "text": [
      "['gme', 'buy', 'robinhood', 'hold', 'emoji_rocket', 'amc', 'sell', 'stock', 'emoji_gem_stone', 'let', 'bb', 'nok', 'fuck', 'moon', 'go', 'dip', 'market', 'app', 'share', 'trade']\n"
     ]
    }
   ],
   "source": [
    "smallest_comm_title = df[df.comms_num<=df.comms_num.median()]\n",
    "smallest_comm_tdf_title = TDF(smallest_comm_title, feature=\"preprocessed_title\")\n",
    "print(list(smallest_comm_tdf_title.keys())[:20])"
   ]
  },
  {
   "cell_type": "markdown",
   "metadata": {},
   "source": [
    "**Body**"
   ]
  },
  {
   "cell_type": "code",
   "execution_count": 42,
   "metadata": {},
   "outputs": [
    {
     "name": "stdout",
     "output_type": "stream",
     "text": [
      "['buy', 'gme', 'hold', 'stock', 'robinhood', 'sell', 'like', 'let', 'emoji_rocket', 'go', 'market', 'amc', 'fuck', 'know', 'share', 'money', 'people', 'https', 'short', 'want']\n"
     ]
    }
   ],
   "source": [
    "smallest_comm_body = df[df.comms_num<=df.comms_num.median()]\n",
    "smallest_comm_tdf_body = TDF(smallest_comm_body, feature=\"preprocessed_body\")\n",
    "print(list(smallest_comm_tdf_body.keys())[:20])"
   ]
  },
  {
   "cell_type": "markdown",
   "metadata": {},
   "source": [
    "## Analysis of words in posts with the highest number of comments"
   ]
  },
  {
   "cell_type": "markdown",
   "metadata": {},
   "source": [
    "**Title**"
   ]
  },
  {
   "cell_type": "code",
   "execution_count": 43,
   "metadata": {},
   "outputs": [
    {
     "name": "stdout",
     "output_type": "stream",
     "text": [
      "['gme', '2021', 'thread', 'discussion', 'emoji_rocket', 'february', 'daily', 'emoji_gem_stone', 'wsb', 'buy', 'hold', 'short', 'amc', 'robinhood', 'sell', 'like', 'january', 'share', 'tomorrow', 'day']\n"
     ]
    }
   ],
   "source": [
    "most_comm_title = df.nlargest(int(1*len(df)/100), \"comms_num\")\n",
    "most_comm_tdf_title = TDF(most_comm_title, feature=\"preprocessed_title\")\n",
    "print(list(most_comm_tdf_title.keys())[:20])"
   ]
  },
  {
   "cell_type": "markdown",
   "metadata": {},
   "source": [
    "**Body**"
   ]
  },
  {
   "cell_type": "code",
   "execution_count": 44,
   "metadata": {},
   "outputs": [
    {
     "name": "stdout",
     "output_type": "stream",
     "text": [
      "['people', 'gme', 'day', 'com', 'https', 'like', 'buy', 'reddit', 'week', 'www', 'stock', 'know', 'wsb', 'go', 'good', 'new', 'try', 'money', 'hold', 'time']\n"
     ]
    }
   ],
   "source": [
    "most_comm_body = df.nlargest(int(1*len(df)/100), \"comms_num\")\n",
    "most_comm_tdf_body = TDF(most_comm_body, feature=\"preprocessed_body\")\n",
    "print(list(most_comm_tdf_body.keys())[:20])"
   ]
  },
  {
   "cell_type": "markdown",
   "metadata": {},
   "source": [
    "## Comparison of words in posts with the highest and lowest number of comments"
   ]
  },
  {
   "cell_type": "markdown",
   "metadata": {},
   "source": [
    "**Titles comparison**"
   ]
  },
  {
   "cell_type": "code",
   "execution_count": 45,
   "metadata": {},
   "outputs": [
    {
     "name": "stdout",
     "output_type": "stream",
     "text": [
      "2021                : 0.13037\n",
      "gme                 : 0.10446\n",
      "thread              : 0.09320\n",
      "discussion          : 0.09134\n",
      "february            : 0.07915\n",
      "daily               : 0.07601\n",
      "wsb                 : 0.05297\n",
      "january             : 0.03903\n",
      "tomorrow            : 0.03606\n",
      "megathread          : 0.03366\n",
      "28                  : 0.02672\n",
      "day                 : 0.02638\n",
      "squeeze             : 0.02590\n",
      "emoji_gem_stone     : 0.02587\n",
      "short               : 0.02421\n",
      "deepfuckingvalue    : 0.02292\n",
      "moves               : 0.02154\n",
      "01                  : 0.02087\n",
      "wallstreetbets      : 0.01960\n",
      "unpinned            : 0.01846\n"
     ]
    }
   ],
   "source": [
    "top_20_tdf_comm_title_compare = compare_TDF(most_comm_tdf_title,\n",
    "                                            smallest_comm_tdf_title, top_k=20)\n",
    "top_k_words(top_20_tdf_comm_title_compare, top_k=20)"
   ]
  },
  {
   "cell_type": "markdown",
   "metadata": {},
   "source": [
    "**Bodies comparison**"
   ]
  },
  {
   "cell_type": "code",
   "execution_count": 46,
   "metadata": {},
   "outputs": [
    {
     "name": "stdout",
     "output_type": "stream",
     "text": [
      "people              : 0.21130\n",
      "day                 : 0.21115\n",
      "com                 : 0.20217\n",
      "reddit              : 0.20183\n",
      "week                : 0.18732\n",
      "www                 : 0.18435\n",
      "https               : 0.18218\n",
      "wsb                 : 0.17785\n",
      "edit                : 0.16311\n",
      "new                 : 0.16254\n",
      "good                : 0.15860\n",
      "read                : 0.15471\n",
      "like                : 0.15338\n",
      "try                 : 0.15097\n",
      "dd                  : 0.13736\n",
      "know                : 0.13696\n",
      "wallstreetbet       : 0.13537\n",
      "time                : 0.13352\n",
      "money               : 0.13112\n",
      "go                  : 0.12765\n"
     ]
    }
   ],
   "source": [
    "top_20_tdf_comm_body_compare = compare_TDF(most_comm_tdf_body,\n",
    "                                           smallest_comm_tdf_body, top_k=20)\n",
    "top_k_words(top_20_tdf_comm_body_compare, top_k=20)"
   ]
  },
  {
   "cell_type": "markdown",
   "metadata": {},
   "source": [
    "# Feature engineering\n",
    "## Text attributes\n",
    "\n",
    "Ogólne:\n",
    "- Number of characters in the unprocessed title and body\n",
    "- Number of words in processed title and body\n",
    "- What percentage of letters are capital letters?\n",
    "- Sentiment analysis\n",
    "\n",
    "Emoji:\n",
    "- What percentage of words are emoji?\n",
    "- Number of emoticons in the title\n",
    "- Number of emoticons in the body\n",
    "- Total number of emoticons\n",
    "- Are there any emoticons (binary feature)\n",
    "- Ratio of the number of unique emoticons to the total number of emoticons in the post\n",
    "    - A smaller value indicates the use of mostly the same emoticons, while a larger value indicates a greater variety of emoticons. In posts without any emoticons, a value of 1 has been inserted.\n",
    "- Vector counting the most common emoticons"
   ]
  },
  {
   "cell_type": "code",
   "execution_count": 47,
   "metadata": {},
   "outputs": [],
   "source": [
    "sid = SentimentIntensityAnalyzer()\n",
    "\n",
    "# Source: https://github.com/cjhutto/vaderSentiment\n",
    "def vader_sentiment(text: str):\n",
    "    d = sid.polarity_scores(text)\n",
    "    return d['pos'], d['neu'], d['neg'], d['compound']\n",
    "\n",
    "\n",
    "def num_words(txt):\n",
    "    return len(txt.split())\n",
    "\n",
    "\n",
    "def calc_percent_of_emoji(txt):\n",
    "    words = txt.split()\n",
    "    if not words:\n",
    "        return 0\n",
    "    else:\n",
    "        return sum([w.startswith('emoji_') for w in words]) / len(words)\n",
    "    \n",
    "    \n",
    "def calc_percent_of_capital_letters(txt):\n",
    "    alpha_txt = [l for l in txt if l.isalpha()]\n",
    "    if not alpha_txt:\n",
    "        return 0\n",
    "    else:\n",
    "        return sum([l.isupper() for l in alpha_txt]) / len(alpha_txt)\n",
    "    \n",
    "\n",
    "def count_unique_emoji(text):\n",
    "    em = []\n",
    "    for token in text.split():\n",
    "        if \"emoji_\" in token:\n",
    "            em.append(token)\n",
    "    return len(np.unique(em))\n",
    "\n",
    "\n",
    "def count_emojis(df):\n",
    "    emojis = []\n",
    "    for text in df[df[\"is_emoji\"]>0][\"full_text\"]:\n",
    "        for token in text.split():\n",
    "            if \"emoji_\" in token:\n",
    "                emojis.append(token)\n",
    "                \n",
    "    em, em_count = np.unique(emojis, return_counts=True)\n",
    "    count_sort_ind = np.argsort(-em_count)\n",
    "    em = em[count_sort_ind]\n",
    "    em_count = em_count[count_sort_ind]\n",
    "    return em, em_count\n",
    "\n",
    "    \n",
    "def get_text_features(df: pd.DataFrame):\n",
    "    df['full_text'] = df['preprocessed_title'].fillna('') + ' ' + df['preprocessed_body'].fillna('')\n",
    "    df['full_text_length'] = df['full_text'].apply(lambda x: len(x))\n",
    "    \n",
    "    df['num_letters_title'] = df.title.str.len()\n",
    "    df['num_letters_body'] = df.body.str.len()\n",
    "    \n",
    "    df['num_words_title'] = df.preprocessed_title.fillna(\"\").apply(num_words)\n",
    "    df['num_words_body'] = df.preprocessed_body.fillna(\"\").apply(num_words)\n",
    "    \n",
    "    df['num_unique_words_title'] = df.preprocessed_title.str.split().apply(lambda x: len(set(x)))\n",
    "    df['num_unique_words_body'] = df.preprocessed_body.str.split().apply(lambda x: len(set(x)))\n",
    "    \n",
    "    df['capital_title_perc'] = df.title.apply(calc_percent_of_capital_letters)\n",
    "    df['capital_body_perc'] = df.body.fillna('').apply(calc_percent_of_capital_letters)\n",
    "    \n",
    "    p = df.full_text.transform(vader_sentiment).to_list()\n",
    "    df[['VS_pos','VS_neu','VS_neg','compound']] = pd.DataFrame(p, columns=['VS_pos','VS_neu','VS_neg','compound'])\n",
    "    df['sentiment'] = df['compound'].apply(lambda c: 'pos' if c>0.1 else 'neg' if c<-0.1 else 'neu')\n",
    "\n",
    "def get_emoji_features(df):\n",
    "    df['emoji_title_perc'] = df[\"preprocessed_title\"].fillna(\"\").apply(calc_percent_of_emoji)\n",
    "    df['emoji_body_perc'] = df[\"preprocessed_body\"].fillna(\"\").apply(calc_percent_of_emoji)\n",
    "    df[\"title_emoji_count\"] = df[\"preprocessed_title\"].fillna(\"\").apply(lambda x: x.count(\"emoji_\"))\n",
    "    df[\"body_emoji_count\"] = df[\"preprocessed_body\"].fillna(\"\").apply(lambda x: x.count(\"emoji_\"))\n",
    "    df[\"total_emoji_count\"] = df['title_emoji_count'] + df['body_emoji_count']\n",
    "    df[\"is_emoji\"] = df[\"total_emoji_count\"].apply(lambda x: int(x>0))\n",
    "    df[\"unique_emojis\"] = 0\n",
    "    df.loc[df[\"is_emoji\"]>0, \"unique_emojis\"] = df.loc[df[\"is_emoji\"]>0, \"full_text\"].apply(count_unique_emoji)\n",
    "    df[\"repeated_emojis_ratio\"] = (df[\"unique_emojis\"] / df[\"total_emoji_count\"]).fillna(1)\n",
    "    em, em_count = count_emojis(df)\n",
    "    popular_emojis = em[:20]\n",
    "    for popular_em in popular_emojis:\n",
    "        df[popular_em] = df.full_text.apply(lambda x: x.count(popular_em))\n",
    "\n",
    "get_text_features(df)\n",
    "get_emoji_features(df)"
   ]
  },
  {
   "cell_type": "markdown",
   "metadata": {},
   "source": [
    "## LDA Topic Modeling\n",
    "\n",
    "Code taken from https://www.kaggle.com/radema/yolo-topic-modeling"
   ]
  },
  {
   "cell_type": "code",
   "execution_count": 48,
   "metadata": {},
   "outputs": [],
   "source": [
    "def make_bigrams(texts, bigram_mod):\n",
    "    return [bigram_mod[doc] for doc in texts]\n",
    "\n",
    "\n",
    "def compute_coherence_values(dictionary, corpus, texts, limit, start=2, step=3):\n",
    "    coherence_values = []\n",
    "    model_list = []\n",
    "    for num_topics in range(start, limit, step):\n",
    "        model = gensim.models.ldamodel.LdaModel(corpus=corpus,\n",
    "                                                id2word=dictionary,\n",
    "                                                num_topics=num_topics,\n",
    "                                                alpha='auto',\n",
    "                                                eta='auto')#learn asymmetric priors\n",
    "        model_list.append(model)\n",
    "        coherencemodel = CoherenceModel(model=model, texts=texts, dictionary=dictionary, coherence='c_v')\n",
    "        coherence_values.append(coherencemodel.get_coherence())\n",
    "    return model_list, coherence_values\n",
    "\n",
    "\n",
    "def topic_modeling(df):\n",
    "    texts = df.full_text.sample(frac=1).dropna().unique()\n",
    "    data_words = [sent.split() for sent in texts]\n",
    "    bigram = gensim.models.Phrases(data_words, min_count=5, threshold=100) # higher threshold fewer phrases.\n",
    "    trigram = gensim.models.Phrases(bigram[data_words], threshold=100)\n",
    "    bigram_mod = gensim.models.phrases.Phraser(bigram)\n",
    "    trigram_mod = gensim.models.phrases.Phraser(trigram)\n",
    "    data_words = make_bigrams(data_words, bigram_mod)\n",
    "    id2word = corpora.Dictionary(data_words)\n",
    "    id2word.filter_extremes(no_below = 10, no_above=0.25)\n",
    "    lemmas = data_words\n",
    "    corpus = [id2word.doc2bow(text) for text in data_words]\n",
    "    model_list, coherence_values = compute_coherence_values(dictionary=id2word, \n",
    "                                                            corpus=corpus, \n",
    "                                                            texts=data_words, \n",
    "                                                            start=3, \n",
    "                                                            limit=25,\n",
    "                                                            step=3)\n",
    "    x = range(3, 25, 3)\n",
    "    plt.plot(x, coherence_values)\n",
    "    plt.xlabel(\"Num Topics\")\n",
    "    plt.ylabel(\"Coherence score\")\n",
    "    plt.legend((\"coherence_values\"), loc='best')\n",
    "    plt.show()\n",
    "    optimal_model = model_list[np.argmax(coherence_values)]\n",
    "    return optimal_model, corpus, texts, id2word, bigram_mod, trigram_mod, bigram, trigram\n",
    "\n",
    "\n",
    "def format_topics_sentences(ldamodel, corpus, texts):\n",
    "    sent_topics_df = pd.DataFrame()\n",
    "    for i, row in enumerate(ldamodel[corpus]):\n",
    "        row = sorted(row, key=lambda x: x[1], reverse=True)\n",
    "        for j, (topic_num, prop_topic) in enumerate(row):\n",
    "            if j == 0:\n",
    "                wp = ldamodel.show_topic(topic_num, topn=7)\n",
    "                topic_keywords = \", \".join([word for word, prop in wp])\n",
    "                sent_topics_df = sent_topics_df.append(pd.Series([int(topic_num), round(prop_topic,4), topic_keywords]), ignore_index=True)\n",
    "            else:\n",
    "                break\n",
    "    sent_topics_df.columns = ['Dominant_Topic', 'Perc_Contribution', 'Topic_Keywords']\n",
    "    contents = pd.Series(texts)\n",
    "    sent_topics_df = pd.concat([sent_topics_df, contents], axis=1)\n",
    "    return(sent_topics_df)\n",
    "\n",
    "\n",
    "def build_corpus(texts:pd.Series, dictionary, bigram_mod):\n",
    "    docs = [sent.split() for sent in texts]\n",
    "    data_words = make_bigrams(docs, bigram_mod)\n",
    "    corpus = [dictionary.doc2bow(text) for text in data_words]\n",
    "    return corpus"
   ]
  },
  {
   "cell_type": "code",
   "execution_count": 49,
   "metadata": {},
   "outputs": [
    {
     "data": {
      "image/png": "[encoded data removed]",
      "text/plain": [
       "<Figure size 432x288 with 1 Axes>"
      ]
     },
     "metadata": {
      "needs_background": "light"
     },
     "output_type": "display_data"
    }
   ],
   "source": [
    "optimal_model, corpus, texts, id2word, bigram_mod, trigram_mod, bigram, trigram = topic_modeling(df)"
   ]
  },
  {
   "cell_type": "code",
   "execution_count": 50,
   "metadata": {},
   "outputs": [
    {
     "data": {
      "text/html": [
       "<div>\n",
       "<style scoped>\n",
       "    .dataframe tbody tr th:only-of-type {\n",
       "        vertical-align: middle;\n",
       "    }\n",
       "\n",
       "    .dataframe tbody tr th {\n",
       "        vertical-align: top;\n",
       "    }\n",
       "\n",
       "    .dataframe thead th {\n",
       "        text-align: right;\n",
       "    }\n",
       "</style>\n",
       "<table border=\"1\" class=\"dataframe\">\n",
       "  <thead>\n",
       "    <tr style=\"text-align: right;\">\n",
       "      <th></th>\n",
       "      <th>Document_No</th>\n",
       "      <th>Dominant_Topic</th>\n",
       "      <th>Topic_Perc_Contrib</th>\n",
       "      <th>Keywords</th>\n",
       "      <th>Text</th>\n",
       "    </tr>\n",
       "  </thead>\n",
       "  <tbody>\n",
       "    <tr>\n",
       "      <th>0</th>\n",
       "      <td>0</td>\n",
       "      <td>4.0</td>\n",
       "      <td>0.9331</td>\n",
       "      <td>people, like, know, stock, money, go, think</td>\n",
       "      <td>looking advice invest guillotine future pretty...</td>\n",
       "    </tr>\n",
       "    <tr>\n",
       "      <th>1</th>\n",
       "      <td>1</td>\n",
       "      <td>3.0</td>\n",
       "      <td>0.4933</td>\n",
       "      <td>robinhood, account, stock, rh, trade, app, fuck</td>\n",
       "      <td>fuck strange robinhood</td>\n",
       "    </tr>\n",
       "    <tr>\n",
       "      <th>2</th>\n",
       "      <td>2</td>\n",
       "      <td>0.0</td>\n",
       "      <td>0.5912</td>\n",
       "      <td>hold, amc, sell, let, bb, nok, fuck</td>\n",
       "      <td>calm portfolio go 55 emoji_gem_stone emoji_rai...</td>\n",
       "    </tr>\n",
       "    <tr>\n",
       "      <th>3</th>\n",
       "      <td>3</td>\n",
       "      <td>1.0</td>\n",
       "      <td>0.4309</td>\n",
       "      <td>company, year, stock, silver, x200b, market, e...</td>\n",
       "      <td>wept rocket conquer</td>\n",
       "    </tr>\n",
       "    <tr>\n",
       "      <th>4</th>\n",
       "      <td>4</td>\n",
       "      <td>3.0</td>\n",
       "      <td>0.8228</td>\n",
       "      <td>robinhood, account, stock, rh, trade, app, fuck</td>\n",
       "      <td>robinhood block user buy gme</td>\n",
       "    </tr>\n",
       "    <tr>\n",
       "      <th>5</th>\n",
       "      <td>5</td>\n",
       "      <td>1.0</td>\n",
       "      <td>0.4674</td>\n",
       "      <td>company, year, stock, silver, x200b, market, e...</td>\n",
       "      <td>start act like retard give zero fuck diversifi...</td>\n",
       "    </tr>\n",
       "    <tr>\n",
       "      <th>6</th>\n",
       "      <td>6</td>\n",
       "      <td>5.0</td>\n",
       "      <td>0.9073</td>\n",
       "      <td>emoji_rocket, emoji_gem_stone, emoji_raising_h...</td>\n",
       "      <td>everybody ready emoji_rocket emoji_gorilla emo...</td>\n",
       "    </tr>\n",
       "    <tr>\n",
       "      <th>7</th>\n",
       "      <td>7</td>\n",
       "      <td>4.0</td>\n",
       "      <td>0.8424</td>\n",
       "      <td>people, like, know, stock, money, go, think</td>\n",
       "      <td>wargame hedge fund tldr strictly entertainment...</td>\n",
       "    </tr>\n",
       "    <tr>\n",
       "      <th>8</th>\n",
       "      <td>8</td>\n",
       "      <td>0.0</td>\n",
       "      <td>0.6402</td>\n",
       "      <td>hold, amc, sell, let, bb, nok, fuck</td>\n",
       "      <td>ride sons gondor</td>\n",
       "    </tr>\n",
       "    <tr>\n",
       "      <th>9</th>\n",
       "      <td>9</td>\n",
       "      <td>4.0</td>\n",
       "      <td>0.8295</td>\n",
       "      <td>people, like, know, stock, money, go, think</td>\n",
       "      <td>finally media get</td>\n",
       "    </tr>\n",
       "  </tbody>\n",
       "</table>\n",
       "</div>"
      ],
      "text/plain": [
       "   Document_No  Dominant_Topic  Topic_Perc_Contrib  \\\n",
       "0            0             4.0              0.9331   \n",
       "1            1             3.0              0.4933   \n",
       "2            2             0.0              0.5912   \n",
       "3            3             1.0              0.4309   \n",
       "4            4             3.0              0.8228   \n",
       "5            5             1.0              0.4674   \n",
       "6            6             5.0              0.9073   \n",
       "7            7             4.0              0.8424   \n",
       "8            8             0.0              0.6402   \n",
       "9            9             4.0              0.8295   \n",
       "\n",
       "                                            Keywords  \\\n",
       "0        people, like, know, stock, money, go, think   \n",
       "1    robinhood, account, stock, rh, trade, app, fuck   \n",
       "2                hold, amc, sell, let, bb, nok, fuck   \n",
       "3  company, year, stock, silver, x200b, market, e...   \n",
       "4    robinhood, account, stock, rh, trade, app, fuck   \n",
       "5  company, year, stock, silver, x200b, market, e...   \n",
       "6  emoji_rocket, emoji_gem_stone, emoji_raising_h...   \n",
       "7        people, like, know, stock, money, go, think   \n",
       "8                hold, amc, sell, let, bb, nok, fuck   \n",
       "9        people, like, know, stock, money, go, think   \n",
       "\n",
       "                                                Text  \n",
       "0  looking advice invest guillotine future pretty...  \n",
       "1                            fuck strange robinhood   \n",
       "2  calm portfolio go 55 emoji_gem_stone emoji_rai...  \n",
       "3                               wept rocket conquer   \n",
       "4                      robinhood block user buy gme   \n",
       "5  start act like retard give zero fuck diversifi...  \n",
       "6  everybody ready emoji_rocket emoji_gorilla emo...  \n",
       "7  wargame hedge fund tldr strictly entertainment...  \n",
       "8                                  ride sons gondor   \n",
       "9                                 finally media get   "
      ]
     },
     "execution_count": 50,
     "metadata": {},
     "output_type": "execute_result"
    }
   ],
   "source": [
    "df_topic_sents_keywords = format_topics_sentences(ldamodel=optimal_model, corpus=corpus, texts=texts)\n",
    "\n",
    "# Format\n",
    "df_dominant_topic = df_topic_sents_keywords.reset_index()\n",
    "df_dominant_topic.columns = ['Document_No', 'Dominant_Topic', 'Topic_Perc_Contrib', 'Keywords', 'Text']\n",
    "\n",
    "# Show\n",
    "df_dominant_topic.head(10)"
   ]
  },
  {
   "cell_type": "code",
   "execution_count": 51,
   "metadata": {},
   "outputs": [
    {
     "data": {
      "text/html": [
       "<div>\n",
       "<style scoped>\n",
       "    .dataframe tbody tr th:only-of-type {\n",
       "        vertical-align: middle;\n",
       "    }\n",
       "\n",
       "    .dataframe tbody tr th {\n",
       "        vertical-align: top;\n",
       "    }\n",
       "\n",
       "    .dataframe thead th {\n",
       "        text-align: right;\n",
       "    }\n",
       "</style>\n",
       "<table border=\"1\" class=\"dataframe\">\n",
       "  <thead>\n",
       "    <tr style=\"text-align: right;\">\n",
       "      <th></th>\n",
       "      <th>Topic_Num</th>\n",
       "      <th>Topic_Perc_Contrib</th>\n",
       "      <th>Keywords</th>\n",
       "      <th>Text</th>\n",
       "    </tr>\n",
       "  </thead>\n",
       "  <tbody>\n",
       "    <tr>\n",
       "      <th>0</th>\n",
       "      <td>0.0</td>\n",
       "      <td>0.9941</td>\n",
       "      <td>hold, amc, sell, let, bb, nok, fuck</td>\n",
       "      <td>daily discussion thread 2 february 1 2021 dail...</td>\n",
       "    </tr>\n",
       "    <tr>\n",
       "      <th>1</th>\n",
       "      <td>1.0</td>\n",
       "      <td>0.9874</td>\n",
       "      <td>company, year, stock, silver, x200b, market, e...</td>\n",
       "      <td>bet goev pretty excited goev talk apple build ...</td>\n",
       "    </tr>\n",
       "    <tr>\n",
       "      <th>2</th>\n",
       "      <td>2.0</td>\n",
       "      <td>0.9990</td>\n",
       "      <td>short, share, price, stock, market, position, ...</td>\n",
       "      <td>dd greek symbols option explained analysis opt...</td>\n",
       "    </tr>\n",
       "    <tr>\n",
       "      <th>3</th>\n",
       "      <td>3.0</td>\n",
       "      <td>0.9778</td>\n",
       "      <td>robinhood, account, stock, rh, trade, app, fuck</td>\n",
       "      <td>need list trading platform sell wsb stock trad...</td>\n",
       "    </tr>\n",
       "    <tr>\n",
       "      <th>4</th>\n",
       "      <td>4.0</td>\n",
       "      <td>0.9960</td>\n",
       "      <td>people, like, know, stock, money, go, think</td>\n",
       "      <td>people vs hedge fund stock exchange suppose ev...</td>\n",
       "    </tr>\n",
       "    <tr>\n",
       "      <th>5</th>\n",
       "      <td>5.0</td>\n",
       "      <td>0.9990</td>\n",
       "      <td>emoji_rocket, emoji_gem_stone, emoji_raising_h...</td>\n",
       "      <td>moon emoji_gem_stone emoji_raised_hand emoji_g...</td>\n",
       "    </tr>\n",
       "  </tbody>\n",
       "</table>\n",
       "</div>"
      ],
      "text/plain": [
       "   Topic_Num  Topic_Perc_Contrib  \\\n",
       "0        0.0              0.9941   \n",
       "1        1.0              0.9874   \n",
       "2        2.0              0.9990   \n",
       "3        3.0              0.9778   \n",
       "4        4.0              0.9960   \n",
       "5        5.0              0.9990   \n",
       "\n",
       "                                            Keywords  \\\n",
       "0                hold, amc, sell, let, bb, nok, fuck   \n",
       "1  company, year, stock, silver, x200b, market, e...   \n",
       "2  short, share, price, stock, market, position, ...   \n",
       "3    robinhood, account, stock, rh, trade, app, fuck   \n",
       "4        people, like, know, stock, money, go, think   \n",
       "5  emoji_rocket, emoji_gem_stone, emoji_raising_h...   \n",
       "\n",
       "                                                Text  \n",
       "0  daily discussion thread 2 february 1 2021 dail...  \n",
       "1  bet goev pretty excited goev talk apple build ...  \n",
       "2  dd greek symbols option explained analysis opt...  \n",
       "3  need list trading platform sell wsb stock trad...  \n",
       "4  people vs hedge fund stock exchange suppose ev...  \n",
       "5  moon emoji_gem_stone emoji_raised_hand emoji_g...  "
      ]
     },
     "execution_count": 51,
     "metadata": {},
     "output_type": "execute_result"
    }
   ],
   "source": [
    "# Group top 5 sentences under each topic\n",
    "sent_topics_sorteddf = pd.DataFrame()\n",
    "\n",
    "sent_topics_outdf_grpd = df_topic_sents_keywords.groupby('Dominant_Topic')\n",
    "\n",
    "for i, grp in sent_topics_outdf_grpd:\n",
    "    sent_topics_sorteddf = pd.concat([sent_topics_sorteddf,\n",
    "                                      grp.sort_values(['Perc_Contribution'], \n",
    "                                                      ascending=[0]).head(1)], \n",
    "                                            axis=0)\n",
    "\n",
    "# Reset Index    \n",
    "sent_topics_sorteddf.reset_index(drop=True, inplace=True)\n",
    "\n",
    "# Format\n",
    "sent_topics_sorteddf.columns = ['Topic_Num', \"Topic_Perc_Contrib\", \"Keywords\", \"Text\"]\n",
    "\n",
    "# Show\n",
    "sent_topics_sorteddf"
   ]
  },
  {
   "cell_type": "code",
   "execution_count": 52,
   "metadata": {},
   "outputs": [
    {
     "data": {
      "text/html": [
       "<div>\n",
       "<style scoped>\n",
       "    .dataframe tbody tr th:only-of-type {\n",
       "        vertical-align: middle;\n",
       "    }\n",
       "\n",
       "    .dataframe tbody tr th {\n",
       "        vertical-align: top;\n",
       "    }\n",
       "\n",
       "    .dataframe thead th {\n",
       "        text-align: right;\n",
       "    }\n",
       "</style>\n",
       "<table border=\"1\" class=\"dataframe\">\n",
       "  <thead>\n",
       "    <tr style=\"text-align: right;\">\n",
       "      <th></th>\n",
       "      <th>Dominant_Topic</th>\n",
       "      <th>Topic_Keywords</th>\n",
       "      <th>Num_Documents</th>\n",
       "      <th>Perc_Documents</th>\n",
       "    </tr>\n",
       "  </thead>\n",
       "  <tbody>\n",
       "    <tr>\n",
       "      <th>4.0</th>\n",
       "      <td>4.0</td>\n",
       "      <td>people, like, know, stock, money, go, think</td>\n",
       "      <td>8990</td>\n",
       "      <td>0.2837</td>\n",
       "    </tr>\n",
       "    <tr>\n",
       "      <th>0.0</th>\n",
       "      <td>0.0</td>\n",
       "      <td>hold, amc, sell, let, bb, nok, fuck</td>\n",
       "      <td>6955</td>\n",
       "      <td>0.2195</td>\n",
       "    </tr>\n",
       "    <tr>\n",
       "      <th>3.0</th>\n",
       "      <td>3.0</td>\n",
       "      <td>robinhood, account, stock, rh, trade, app, fuck</td>\n",
       "      <td>5627</td>\n",
       "      <td>0.1776</td>\n",
       "    </tr>\n",
       "    <tr>\n",
       "      <th>5.0</th>\n",
       "      <td>5.0</td>\n",
       "      <td>emoji_rocket, emoji_gem_stone, emoji_raising_h...</td>\n",
       "      <td>4557</td>\n",
       "      <td>0.1438</td>\n",
       "    </tr>\n",
       "    <tr>\n",
       "      <th>2.0</th>\n",
       "      <td>2.0</td>\n",
       "      <td>short, share, price, stock, market, position, ...</td>\n",
       "      <td>3917</td>\n",
       "      <td>0.1236</td>\n",
       "    </tr>\n",
       "    <tr>\n",
       "      <th>1.0</th>\n",
       "      <td>1.0</td>\n",
       "      <td>company, year, stock, silver, x200b, market, e...</td>\n",
       "      <td>1639</td>\n",
       "      <td>0.0517</td>\n",
       "    </tr>\n",
       "  </tbody>\n",
       "</table>\n",
       "</div>"
      ],
      "text/plain": [
       "     Dominant_Topic                                     Topic_Keywords  \\\n",
       "4.0             4.0        people, like, know, stock, money, go, think   \n",
       "0.0             0.0                hold, amc, sell, let, bb, nok, fuck   \n",
       "3.0             3.0    robinhood, account, stock, rh, trade, app, fuck   \n",
       "5.0             5.0  emoji_rocket, emoji_gem_stone, emoji_raising_h...   \n",
       "2.0             2.0  short, share, price, stock, market, position, ...   \n",
       "1.0             1.0  company, year, stock, silver, x200b, market, e...   \n",
       "\n",
       "     Num_Documents  Perc_Documents  \n",
       "4.0           8990          0.2837  \n",
       "0.0           6955          0.2195  \n",
       "3.0           5627          0.1776  \n",
       "5.0           4557          0.1438  \n",
       "2.0           3917          0.1236  \n",
       "1.0           1639          0.0517  "
      ]
     },
     "execution_count": 52,
     "metadata": {},
     "output_type": "execute_result"
    }
   ],
   "source": [
    "# Number of Documents for Each Topic\n",
    "topic_counts = df_topic_sents_keywords['Dominant_Topic'].value_counts()\n",
    "\n",
    "# Percentage of Documents for Each Topic\n",
    "topic_contribution = round(topic_counts/topic_counts.sum(), 4)\n",
    "\n",
    "# Topic Number and Keywords\n",
    "topic_num_keywords = df_topic_sents_keywords[\n",
    "    ['Dominant_Topic', 'Topic_Keywords']\n",
    "].drop_duplicates()\n",
    "\n",
    "# Concatenate Column wise\n",
    "df_dominant_topics = pd.concat([topic_num_keywords.sort_values(by='Dominant_Topic').reset_index() , \n",
    "                                topic_counts.sort_index()\n",
    "                                , topic_contribution.sort_index()\n",
    "                               ], axis=1).drop(columns='index')\n",
    "\n",
    "# Change Column names\n",
    "df_dominant_topics.columns = ['Dominant_Topic', 'Topic_Keywords', 'Num_Documents', 'Perc_Documents']\n",
    "\n",
    "# Show\n",
    "df_dominant_topics.sort_values(by='Num_Documents', ascending=False)"
   ]
  },
  {
   "cell_type": "code",
   "execution_count": 53,
   "metadata": {},
   "outputs": [],
   "source": [
    "new_corpus = build_corpus(df.full_text, dictionary=id2word, bigram_mod=bigram_mod)\n",
    "topics_docs= list(optimal_model.get_document_topics(new_corpus, minimum_probability=0.0))\n",
    "lda_topics = [sorted(topics, key=lambda x: x[1], reverse=True)[0] for topics in topics_docs]\n",
    "df = pd.concat([df,pd.DataFrame(lda_topics, columns=['lda_topic','lda_topic_prob'])], axis = 1)\n",
    "# del topics_docs, lda_topics"
   ]
  },
  {
   "cell_type": "code",
   "execution_count": 54,
   "metadata": {},
   "outputs": [],
   "source": [
    "### Store dictionary and lda model\n",
    "from gensim.test.utils import datapath\n",
    "\n",
    "optimal_model.save('lda_model')\n",
    "id2word.save('dictionary')\n",
    "\n",
    "bigram_mod.save('./Models/bigram_mod')\n",
    "trigram_mod.save('./Models/trigram_mod')\n",
    "bigram.save('./bigram')\n",
    "trigram.save('./trigram')"
   ]
  },
  {
   "cell_type": "markdown",
   "metadata": {},
   "source": [
    "## Other attributes\n",
    "- Grouped links\n",
    "- Day of the week\n",
    "- Time as number of minutes since midnight\n",
    "- Time as number of hours since midnight\n",
    "- Week of the year since January 20\n",
    "- Number of days from January 20"
   ]
  },
  {
   "cell_type": "code",
   "execution_count": 55,
   "metadata": {},
   "outputs": [],
   "source": [
    "def get_url_features(df):\n",
    "    mapping = create_grouping_dict(df.url_netloc.unique().tolist())\n",
    "    df['sub_group'] = df.url_netloc.map(mapping)\n",
    "    # merge urls with images (1 and 5) and videos (2 and 4)\n",
    "    # change 6 to 4 for continuity\n",
    "    df['group'] = df.sub_group.map({0: 0, 1: 1, 2:2, 3:3, 4:2, 5:1, 6:4})\n",
    "    \n",
    "    \n",
    "def get_time_features(df):\n",
    "    ts_dt = pd.to_datetime(df.timestamp)\n",
    "    df['weekday'] = ts_dt.dt.weekday\n",
    "    df['minutes_from_midnight'] = ((ts_dt - ts_dt.dt.normalize()) / pd.Timedelta(minutes=1)).astype(int)\n",
    "    df['hours_from_midnight'] = ts_dt.dt.hour\n",
    "    df['weeks_from_start'] = ts_dt.dt.isocalendar().week - pd.Timestamp('2021-01-20').isocalendar()[1]\n",
    "    df['days_from_start'] = ts_dt.dt.dayofyear - pd.Timestamp('2021-01-20').dayofyear"
   ]
  },
  {
   "cell_type": "code",
   "execution_count": 56,
   "metadata": {},
   "outputs": [],
   "source": [
    "get_url_features(df)\n",
    "get_time_features(df)"
   ]
  },
  {
   "cell_type": "code",
   "execution_count": 57,
   "metadata": {},
   "outputs": [
    {
     "name": "stdout",
     "output_type": "stream",
     "text": [
      "<class 'pandas.core.frame.DataFrame'>\n",
      "RangeIndex: 32511 entries, 0 to 32510\n",
      "Data columns (total 63 columns):\n",
      " #   Column                          Non-Null Count  Dtype  \n",
      "---  ------                          --------------  -----  \n",
      " 0   title                           32511 non-null  object \n",
      " 1   score                           32511 non-null  int64  \n",
      " 2   id                              32511 non-null  object \n",
      " 3   url                             32511 non-null  object \n",
      " 4   comms_num                       32511 non-null  int64  \n",
      " 5   created                         32511 non-null  float64\n",
      " 6   body                            16875 non-null  object \n",
      " 7   timestamp                       32511 non-null  object \n",
      " 8   preprocessed_title              32511 non-null  object \n",
      " 9   preprocessed_body               32511 non-null  object \n",
      " 10  url_netloc                      32511 non-null  object \n",
      " 11  full_text                       32511 non-null  object \n",
      " 12  full_text_length                32511 non-null  int64  \n",
      " 13  num_letters_title               32511 non-null  int64  \n",
      " 14  num_letters_body                16875 non-null  float64\n",
      " 15  num_words_title                 32511 non-null  int64  \n",
      " 16  num_words_body                  32511 non-null  int64  \n",
      " 17  num_unique_words_title          32511 non-null  int64  \n",
      " 18  num_unique_words_body           32511 non-null  int64  \n",
      " 19  capital_title_perc              32511 non-null  float64\n",
      " 20  capital_body_perc               32511 non-null  float64\n",
      " 21  VS_pos                          32511 non-null  float64\n",
      " 22  VS_neu                          32511 non-null  float64\n",
      " 23  VS_neg                          32511 non-null  float64\n",
      " 24  compound                        32511 non-null  float64\n",
      " 25  sentiment                       32511 non-null  object \n",
      " 26  emoji_title_perc                32511 non-null  float64\n",
      " 27  emoji_body_perc                 32511 non-null  float64\n",
      " 28  title_emoji_count               32511 non-null  int64  \n",
      " 29  body_emoji_count                32511 non-null  int64  \n",
      " 30  total_emoji_count               32511 non-null  int64  \n",
      " 31  is_emoji                        32511 non-null  int64  \n",
      " 32  unique_emojis                   32511 non-null  int64  \n",
      " 33  repeated_emojis_ratio           32511 non-null  float64\n",
      " 34  emoji_rocket                    32511 non-null  int64  \n",
      " 35  emoji_gem_stone                 32511 non-null  int64  \n",
      " 36  emoji_raising_hand              32511 non-null  int64  \n",
      " 37  emoji_gorilla                   32511 non-null  int64  \n",
      " 38  emoji_raised_hand               32511 non-null  int64  \n",
      " 39  emoji_open_hand                 32511 non-null  int64  \n",
      " 40  emoji_light_skin_tone           32511 non-null  int64  \n",
      " 41  emoji_palms_up_together         32511 non-null  int64  \n",
      " 42  emoji_full_moon                 32511 non-null  int64  \n",
      " 43  emoji_raised_back_of_hand       32511 non-null  int64  \n",
      " 44  emoji_medium_light_skin_tone    32511 non-null  int64  \n",
      " 45  emoji_hand_with_fingers_splaye  32511 non-null  int64  \n",
      " 46  emoji_banana                    32511 non-null  int64  \n",
      " 47  emoji_full_moon_face            32511 non-null  int64  \n",
      " 48  emoji_rainbow                   32511 non-null  int64  \n",
      " 49  emoji_crescent_moon             32511 non-null  int64  \n",
      " 50  emoji_medium_skin_tone          32511 non-null  int64  \n",
      " 51  emoji_bear_face                 32511 non-null  int64  \n",
      " 52  emoji_new_moon_face             32511 non-null  int64  \n",
      " 53  emoji_fire                      32511 non-null  int64  \n",
      " 54  lda_topic                       32511 non-null  int64  \n",
      " 55  lda_topic_prob                  32511 non-null  float64\n",
      " 56  sub_group                       32511 non-null  int64  \n",
      " 57  group                           32511 non-null  int64  \n",
      " 58  weekday                         32511 non-null  int64  \n",
      " 59  minutes_from_midnight           32511 non-null  int64  \n",
      " 60  hours_from_midnight             32511 non-null  int64  \n",
      " 61  weeks_from_start                32511 non-null  UInt32 \n",
      " 62  days_from_start                 32511 non-null  int64  \n",
      "dtypes: UInt32(1), float64(12), int64(40), object(10)\n",
      "memory usage: 15.5+ MB\n"
     ]
    }
   ],
   "source": [
    "df.info()"
   ]
  },
  {
   "cell_type": "code",
   "execution_count": 58,
   "metadata": {},
   "outputs": [],
   "source": [
    "df.to_csv('reddit_etap_1_v4.csv')"
   ]
  }
 ],
 "metadata": {
  "kernelspec": {
   "display_name": "Python [conda env:nlp]",
   "language": "python",
   "name": "conda-env-nlp-py"
  },
  "language_info": {
   "codemirror_mode": {
    "name": "ipython",
    "version": 3
   },
   "file_extension": ".py",
   "mimetype": "text/x-python",
   "name": "python",
   "nbconvert_exporter": "python",
   "pygments_lexer": "ipython3",
   "version": "3.7.9"
  },
  "toc-autonumbering": true
 },
 "nbformat": 4,
 "nbformat_minor": 4
}
